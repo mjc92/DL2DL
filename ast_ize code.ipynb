{
 "cells": [
  {
   "cell_type": "code",
   "execution_count": 1,
   "metadata": {
    "collapsed": true
   },
   "outputs": [],
   "source": [
    "import ast\n",
    "from ast import parse\n",
    "from torch import nn\n",
    "from packages.functions import extract\n",
    "import os"
   ]
  },
  {
   "cell_type": "code",
   "execution_count": 4,
   "metadata": {
    "scrolled": true
   },
   "outputs": [],
   "source": [
    "load_dir = './data/task1/target/'\n",
    "save_dir = './data/task1/structure_target/'\n",
    "files = os.listdir(load_dir)\n",
    "\n",
    "for filename in files:\n",
    "    with open(os.path.join(load_dir,filename)) as f:        \n",
    "        text = f.read()\n",
    "    with open(os.path.join(save_dir,filename),'w') as f:        \n",
    "        f.write(' '.join(list(extract(text))))"
   ]
  },
  {
   "cell_type": "code",
   "execution_count": null,
   "metadata": {},
   "outputs": [],
   "source": [
    "print(text)"
   ]
  },
  {
   "cell_type": "code",
   "execution_count": null,
   "metadata": {
    "collapsed": true
   },
   "outputs": [],
   "source": [
    "txt = text.split('\\n')"
   ]
  },
  {
   "cell_type": "code",
   "execution_count": null,
   "metadata": {},
   "outputs": [],
   "source": [
    "txt"
   ]
  },
  {
   "cell_type": "code",
   "execution_count": null,
   "metadata": {
    "collapsed": true
   },
   "outputs": [],
   "source": [
    "numbers = []\n",
    "activation = []\n",
    "for line in txt:\n",
    "    if 'Leaky' not in line:\n",
    "        numbers.extend(re.findall(r'\\d+',line))\n",
    "    if ('LU' in line):\n",
    "        activation.append(line.split('(')[0].strip())\n",
    "activation = list(set(activation))\n",
    "result = line.split('(')[0].strip()"
   ]
  },
  {
   "cell_type": "code",
   "execution_count": null,
   "metadata": {
    "collapsed": true
   },
   "outputs": [],
   "source": [
    "def extract(text):\n",
    "    text = text.split('\\n')\n",
    "    numbers = []\n",
    "    activation = []\n",
    "    for line in text:\n",
    "        if 'Leaky' not in line:\n",
    "            numbers.extend(re.findall(r'\\d+',line))\n",
    "        if ('LU' in line):\n",
    "            activation.append(line.split('(')[0].strip())\n",
    "    numbers = [x for i,x in enumerate(numbers) if i%2==0]\n",
    "    activation = list(set(activation))[0]\n",
    "    result = line.split('(')[0].strip()\n",
    "    if 'Linear' in result:\n",
    "        result = None\n",
    "    return numbers, activation, result"
   ]
  },
  {
   "cell_type": "code",
   "execution_count": null,
   "metadata": {
    "collapsed": true
   },
   "outputs": [],
   "source": []
  }
 ],
 "metadata": {
  "kernelspec": {
   "display_name": "Python [conda env:pytorch]",
   "language": "python",
   "name": "conda-env-pytorch-py"
  },
  "language_info": {
   "codemirror_mode": {
    "name": "ipython",
    "version": 3
   },
   "file_extension": ".py",
   "mimetype": "text/x-python",
   "name": "python",
   "nbconvert_exporter": "python",
   "pygments_lexer": "ipython3",
   "version": "3.5.3"
  }
 },
 "nbformat": 4,
 "nbformat_minor": 2
}
