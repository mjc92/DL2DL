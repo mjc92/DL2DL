{
 "cells": [
  {
   "cell_type": "code",
   "execution_count": 59,
   "metadata": {
    "collapsed": true
   },
   "outputs": [],
   "source": [
    "import torch\n",
    "import torch.nn as nn\n",
    "import json\n",
    "import numpy as np\n",
    "from model import Seq2Seq\n",
    "from torch.autograd import Variable\n",
    "from torch.nn.utils.rnn import pack_padded_sequence as pack\n",
    "from torch.nn.utils.rnn import pad_packed_sequence as unpack\n",
    "from data_loader import get_loader"
   ]
  },
  {
   "cell_type": "code",
   "execution_count": 60,
   "metadata": {
    "collapsed": true
   },
   "outputs": [],
   "source": [
    "with open('./data/word2id.json', 'r') as f:\n",
    "    word2id = json.load(f)\n",
    "id2word = {i: w for w, i in word2id.items()}\n",
    "src_root = './data/task1/source/'\n",
    "trg_root = './data/task1/target/'\n",
    "data_loader = get_loader(src_root, trg_root, 10, num_workers=2)"
   ]
  },
  {
   "cell_type": "code",
   "execution_count": 61,
   "metadata": {
    "collapsed": true
   },
   "outputs": [],
   "source": [
    "model_save_path = './data/model.pth'\n",
    "vocab_size = 100\n",
    "model = Seq2Seq(vocab_size)\n",
    "model.cuda()\n",
    "model.load_state_dict(torch.load(model_save_path))"
   ]
  },
  {
   "cell_type": "code",
   "execution_count": 62,
   "metadata": {
    "collapsed": true
   },
   "outputs": [],
   "source": [
    "def to_var(x):\n",
    "    if torch.cuda.is_available():\n",
    "        x = x.cuda()\n",
    "    return Variable(x)"
   ]
  },
  {
   "cell_type": "code",
   "execution_count": 65,
   "metadata": {
    "collapsed": true
   },
   "outputs": [],
   "source": [
    "for i, (sources, targets, source_lengths, target_lengths) in enumerate(data_loader):\n",
    "    \n",
    "    sources = to_var(sources)\n",
    "    targets_out = targets[:, 1:]\n",
    "    max_length = targets_out.size(1)\n",
    "    \n",
    "    # Forward pass\n",
    "    h, c = model.encode(sources, source_lengths)\n",
    "    batch_size = sources.size(0)\n",
    "    input = to_var(torch.LongTensor([word2id['<SOS>']] * batch_size)).unsqueeze(1)  # (batch_size, 1)\n",
    "    output = model.sample(input, h, c, max_length)\n",
    "    \n",
    "    \n",
    "    \n",
    "    # Compute accuracy\n",
    "    \n",
    "    \n",
    "    if i == 1:   # should be deleted\n",
    "        break"
   ]
  },
  {
   "cell_type": "code",
   "execution_count": 66,
   "metadata": {},
   "outputs": [
    {
     "data": {
      "text/plain": [
       "\n",
       " 0\n",
       " 0\n",
       " 0\n",
       " 0\n",
       " 0\n",
       " 0\n",
       " 0\n",
       " 0\n",
       " 0\n",
       " 0\n",
       "[torch.ByteTensor of size 10]"
      ]
     },
     "execution_count": 66,
     "metadata": {},
     "output_type": "execute_result"
    }
   ],
   "source": [
    "mask = (targets_out != 0).float()\n",
    "correct = (output.data.cpu() == targets_out).float() * mask  # (batch_size, max_length)\n",
    "mask_sum = torch.sum(mask, dim=1)                            # (batch_size)\n",
    "correct_sum =torch.sum(correct, dim=1)\n",
    "mask_sum == correct_sum"
   ]
  },
  {
   "cell_type": "code",
   "execution_count": null,
   "metadata": {
    "collapsed": true
   },
   "outputs": [],
   "source": [
    "sampled = []\n",
    "for sentence in output:\n",
    "    tmp = \"\"\n",
    "    for idx in sentence:\n",
    "        token = id2word[idx]\n",
    "        tmp += token\n",
    "    sampled.append(tmp)"
   ]
  }
 ],
 "metadata": {
  "kernelspec": {
   "display_name": "Python [default]",
   "language": "python",
   "name": "python3"
  },
  "language_info": {
   "codemirror_mode": {
    "name": "ipython",
    "version": 3
   },
   "file_extension": ".py",
   "mimetype": "text/x-python",
   "name": "python",
   "nbconvert_exporter": "python",
   "pygments_lexer": "ipython3",
   "version": "3.6.1"
  }
 },
 "nbformat": 4,
 "nbformat_minor": 2
}
